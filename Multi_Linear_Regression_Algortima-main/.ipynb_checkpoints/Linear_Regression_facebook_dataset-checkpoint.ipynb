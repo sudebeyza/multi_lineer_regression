{
 "cells": [
  {
   "cell_type": "markdown",
   "id": "5f07b61a",
   "metadata": {},
   "source": [
    "# Liner Regression Model From Scratch"
   ]
  },
  {
   "cell_type": "code",
   "execution_count": 1,
   "id": "9579bf3e",
   "metadata": {},
   "outputs": [],
   "source": [
    "import numpy as np\n",
    "import pandas as pd\n",
    "import matplotlib.pyplot as plt"
   ]
  },
  {
   "cell_type": "code",
   "execution_count": 2,
   "id": "11e73fc8",
   "metadata": {},
   "outputs": [],
   "source": [
    "def initialize_parameters(lenw):#başlangıç parametreleri\n",
    "    w=np.random.randn(lenw)\n",
    "    #w=np.zeros((1,lenw))\n",
    "    b=0\n",
    "    return w,b"
   ]
  },
  {
   "cell_type": "code",
   "execution_count": 3,
   "id": "bd8a6ff8",
   "metadata": {},
   "outputs": [],
   "source": [
    "def forward_prop(X,w,b): #w-->1xn, X-->n x m\n",
    "    z=np.dot(w,X)+b #z-->1 x m   b=[b b b ....]\n",
    "    return z"
   ]
  },
  {
   "cell_type": "code",
   "execution_count": 4,
   "id": "bb3afe2c",
   "metadata": {},
   "outputs": [],
   "source": [
    "#maliyet fonksiyonu\n",
    "def cost_function(z,y):\n",
    "    m = y.shape[1]\n",
    "    J=(1/(2*m))*np.sum(np.square(z-y))\n",
    "    return J"
   ]
  },
  {
   "cell_type": "code",
   "execution_count": 5,
   "id": "bf672482",
   "metadata": {},
   "outputs": [],
   "source": [
    "def back_prop(X,y,z):\n",
    "    m=y.shape[1]\n",
    "    dz=(1/m)*(z-y)\n",
    "    dw=np.dot(dz,X.T)  #dw-->1 x n\n",
    "    db = np.sum(dz)\n",
    "    return  dw,db"
   ]
  },
  {
   "cell_type": "code",
   "execution_count": 6,
   "id": "772a621d",
   "metadata": {},
   "outputs": [],
   "source": [
    "def gradient_descent_update(w,b,dw,db,learning_rate):  #degraate iniş güncellemesi\n",
    "    w = w - learning_rate*dw\n",
    "    b = b - learning_rate*db\n",
    "    return w,b\n",
    "    "
   ]
  },
  {
   "cell_type": "code",
   "execution_count": null,
   "id": "8633ce91",
   "metadata": {},
   "outputs": [],
   "source": []
  },
  {
   "cell_type": "code",
   "execution_count": 7,
   "id": "4bc3326f",
   "metadata": {},
   "outputs": [],
   "source": [
    "# Lineer regresyon modeli\n",
    "def linear_regression_model(X_train, y_train, X_val, y_val, learning_rate, epochs):\n",
    "    lenw = X_train.shape[0]\n",
    "    w, b = initialize_parameters(lenw)\n",
    "    \n",
    "    costs_train = []  # Eğitim maliyetlerini saklamak için bir liste oluştur\n",
    "    \n",
    "    m_train = y_train.shape[1]\n",
    "    m_val = y_val.shape[1]\n",
    "\n",
    "    for i in range(1, epochs + 1):\n",
    "        z_train = forward_prop(X_train, w, b)\n",
    "        cost_train = cost_function(z_train, y_train)\n",
    "        dw, db = back_prop(X_train, y_train, z_train)\n",
    "        w, b = gradient_descent_update(w, b, dw, db, learning_rate)\n",
    "        \n",
    "        if i % 10 == 0:\n",
    "            costs_train.append(cost_train)\n",
    "        \n",
    "        MAE_train = (1 / m_train) * np.sum(np.abs(z_train - y_train))\n",
    "        \n",
    "        z_val = forward_prop(X_val, w, b)\n",
    "        cost_val = cost_function(z_val, y_val)\n",
    "        MAE_val = (1 / m_val) * np.sum(np.abs(z_val - y_val))\n",
    "        \n",
    "        #print('Epochs  ' + str(i) + '/' + str(epochs) + ' : ')\n",
    "        #print('Training cost ' + str(cost_train) + ' | ' + 'Validation cost  ' + str(cost_val))\n",
    "        #print('Training MAE ' + str(MAE_train) + ' | ' + 'Validation MAE  ' + str(MAE_val))\n",
    "        \n",
    "    print(\"\")\n",
    "    print('Training cost ' + str(cost_train) + ' | ' + 'Validation cost  ' + str(cost_val))\n",
    "    print('Training MAE ' + str(MAE_train) + ' | ' + 'Validation MAE  ' + str(MAE_val))\n",
    "\n",
    "    # Eğitim maliyetini grafik üzerinde göster\n",
    "    plt.plot(costs_train)\n",
    "    plt.xlabel('Iterations [per_tens]')\n",
    "    plt.ylabel('Training Cost')\n",
    "    plt.title('Learning rate ' + str(learning_rate))\n",
    "    plt.show()\n",
    "    \n",
    "    \n",
    "    \n",
    "    "
   ]
  },
  {
   "cell_type": "code",
   "execution_count": 8,
   "id": "894937f4",
   "metadata": {},
   "outputs": [],
   "source": [
    "dataset = pd.read_csv('dataset_Facebook.csv', delimiter=';')\n",
    "data = dataset.copy()"
   ]
  },
  {
   "cell_type": "code",
   "execution_count": 9,
   "id": "90814213",
   "metadata": {},
   "outputs": [
    {
     "name": "stdout",
     "output_type": "stream",
     "text": [
      "<class 'pandas.core.frame.DataFrame'>\n",
      "RangeIndex: 500 entries, 0 to 499\n",
      "Data columns (total 19 columns):\n",
      " #   Column                                                               Non-Null Count  Dtype  \n",
      "---  ------                                                               --------------  -----  \n",
      " 0   Page total likes                                                     500 non-null    int64  \n",
      " 1   Type                                                                 500 non-null    object \n",
      " 2   Category                                                             500 non-null    int64  \n",
      " 3   Post Month                                                           500 non-null    int64  \n",
      " 4   Post Weekday                                                         500 non-null    int64  \n",
      " 5   Post Hour                                                            500 non-null    int64  \n",
      " 6   Paid                                                                 499 non-null    float64\n",
      " 7   Lifetime Post Total Reach                                            500 non-null    int64  \n",
      " 8   Lifetime Post Total Impressions                                      500 non-null    int64  \n",
      " 9   Lifetime Engaged Users                                               500 non-null    int64  \n",
      " 10  Lifetime Post Consumers                                              500 non-null    int64  \n",
      " 11  Lifetime Post Consumptions                                           500 non-null    int64  \n",
      " 12  Lifetime Post Impressions by people who have liked your Page         500 non-null    int64  \n",
      " 13  Lifetime Post reach by people who like your Page                     500 non-null    int64  \n",
      " 14  Lifetime People who have liked your Page and engaged with your post  500 non-null    int64  \n",
      " 15  comment                                                              500 non-null    int64  \n",
      " 16  like                                                                 499 non-null    float64\n",
      " 17  share                                                                496 non-null    float64\n",
      " 18  Total Interactions                                                   500 non-null    int64  \n",
      "dtypes: float64(3), int64(15), object(1)\n",
      "memory usage: 74.3+ KB\n"
     ]
    }
   ],
   "source": [
    "data.info()\n"
   ]
  },
  {
   "cell_type": "code",
   "execution_count": 10,
   "id": "f741beeb",
   "metadata": {},
   "outputs": [],
   "source": [
    "#Paid sütununda tespit edilen boş değerleri o sütunun ortalaması ile dolduruluyor\n",
    "mean_value= data['Paid'].mean()#\n",
    "data['Paid'].fillna(mean_value,inplace=True)\n",
    "\n",
    "\n",
    "#like sütununda tespit edilen boş değerleri o sütunun ortalaması ile dolduruluyor@114.satır\n",
    "mean_value= data['like'].mean()#\n",
    "data['like'].fillna(mean_value,inplace=True)\n",
    "\n",
    "#like sütununda tespit edilen boş değerleri o sütunun ortalaması ile dolduruluyor\n",
    "mean_value= data['share'].mean()#\n",
    "data['share'].fillna(mean_value,inplace=True)\n",
    "\n"
   ]
  },
  {
   "cell_type": "code",
   "execution_count": 11,
   "id": "ff0ee97a",
   "metadata": {},
   "outputs": [],
   "source": [
    "X = dataset[['Category', 'Page total likes', 'Post Month', 'Post Hour', 'Post Weekday', 'Paid']]\n",
    "y = dataset['Total Interactions']"
   ]
  },
  {
   "cell_type": "code",
   "execution_count": 12,
   "id": "627e7177",
   "metadata": {},
   "outputs": [
    {
     "name": "stdout",
     "output_type": "stream",
     "text": [
      "<class 'pandas.core.frame.DataFrame'>\n",
      "RangeIndex: 500 entries, 0 to 499\n",
      "Data columns (total 19 columns):\n",
      " #   Column                                                               Non-Null Count  Dtype  \n",
      "---  ------                                                               --------------  -----  \n",
      " 0   Page total likes                                                     500 non-null    int64  \n",
      " 1   Type                                                                 500 non-null    object \n",
      " 2   Category                                                             500 non-null    int64  \n",
      " 3   Post Month                                                           500 non-null    int64  \n",
      " 4   Post Weekday                                                         500 non-null    int64  \n",
      " 5   Post Hour                                                            500 non-null    int64  \n",
      " 6   Paid                                                                 500 non-null    float64\n",
      " 7   Lifetime Post Total Reach                                            500 non-null    int64  \n",
      " 8   Lifetime Post Total Impressions                                      500 non-null    int64  \n",
      " 9   Lifetime Engaged Users                                               500 non-null    int64  \n",
      " 10  Lifetime Post Consumers                                              500 non-null    int64  \n",
      " 11  Lifetime Post Consumptions                                           500 non-null    int64  \n",
      " 12  Lifetime Post Impressions by people who have liked your Page         500 non-null    int64  \n",
      " 13  Lifetime Post reach by people who like your Page                     500 non-null    int64  \n",
      " 14  Lifetime People who have liked your Page and engaged with your post  500 non-null    int64  \n",
      " 15  comment                                                              500 non-null    int64  \n",
      " 16  like                                                                 500 non-null    float64\n",
      " 17  share                                                                500 non-null    float64\n",
      " 18  Total Interactions                                                   500 non-null    int64  \n",
      "dtypes: float64(3), int64(15), object(1)\n",
      "memory usage: 74.3+ KB\n"
     ]
    }
   ],
   "source": [
    "data.info()"
   ]
  },
  {
   "cell_type": "code",
   "execution_count": 13,
   "id": "cc97cd06",
   "metadata": {},
   "outputs": [
    {
     "data": {
      "text/plain": [
       "(500, 6)"
      ]
     },
     "execution_count": 13,
     "metadata": {},
     "output_type": "execute_result"
    }
   ],
   "source": [
    "X.shape"
   ]
  },
  {
   "cell_type": "code",
   "execution_count": 14,
   "id": "6068d525",
   "metadata": {},
   "outputs": [],
   "source": [
    "data.drop([\"Type\"], axis = 1, inplace = True)"
   ]
  },
  {
   "cell_type": "code",
   "execution_count": 15,
   "id": "0c86eefc",
   "metadata": {},
   "outputs": [],
   "source": [
    "#Normalize input matrix so that data lies in the range of -1 yo +1\n",
    "X= (data-data.mean())/(data.max()-data.min())"
   ]
  },
  {
   "cell_type": "code",
   "execution_count": 16,
   "id": "336023c6",
   "metadata": {},
   "outputs": [],
   "source": [
    "#describe() fonksiyonu, bir Pandas DataFrame veya Serisi'nin temel istatistik özetini sağlar."
   ]
  },
  {
   "cell_type": "code",
   "execution_count": 17,
   "id": "58e423a0",
   "metadata": {},
   "outputs": [
    {
     "data": {
      "text/html": [
       "<div>\n",
       "<style scoped>\n",
       "    .dataframe tbody tr th:only-of-type {\n",
       "        vertical-align: middle;\n",
       "    }\n",
       "\n",
       "    .dataframe tbody tr th {\n",
       "        vertical-align: top;\n",
       "    }\n",
       "\n",
       "    .dataframe thead th {\n",
       "        text-align: right;\n",
       "    }\n",
       "</style>\n",
       "<table border=\"1\" class=\"dataframe\">\n",
       "  <thead>\n",
       "    <tr style=\"text-align: right;\">\n",
       "      <th></th>\n",
       "      <th>Page total likes</th>\n",
       "      <th>Category</th>\n",
       "      <th>Post Month</th>\n",
       "      <th>Post Weekday</th>\n",
       "      <th>Post Hour</th>\n",
       "      <th>Paid</th>\n",
       "      <th>Lifetime Post Total Reach</th>\n",
       "      <th>Lifetime Post Total Impressions</th>\n",
       "      <th>Lifetime Engaged Users</th>\n",
       "      <th>Lifetime Post Consumers</th>\n",
       "      <th>Lifetime Post Consumptions</th>\n",
       "      <th>Lifetime Post Impressions by people who have liked your Page</th>\n",
       "      <th>Lifetime Post reach by people who like your Page</th>\n",
       "      <th>Lifetime People who have liked your Page and engaged with your post</th>\n",
       "      <th>comment</th>\n",
       "      <th>like</th>\n",
       "      <th>share</th>\n",
       "      <th>Total Interactions</th>\n",
       "    </tr>\n",
       "  </thead>\n",
       "  <tbody>\n",
       "    <tr>\n",
       "      <th>count</th>\n",
       "      <td>5.000000e+02</td>\n",
       "      <td>5.000000e+02</td>\n",
       "      <td>5.000000e+02</td>\n",
       "      <td>5.000000e+02</td>\n",
       "      <td>5.000000e+02</td>\n",
       "      <td>5.000000e+02</td>\n",
       "      <td>5.000000e+02</td>\n",
       "      <td>500.000000</td>\n",
       "      <td>5.000000e+02</td>\n",
       "      <td>5.000000e+02</td>\n",
       "      <td>5.000000e+02</td>\n",
       "      <td>500.000000</td>\n",
       "      <td>5.000000e+02</td>\n",
       "      <td>5.000000e+02</td>\n",
       "      <td>500.000000</td>\n",
       "      <td>5.000000e+02</td>\n",
       "      <td>5.000000e+02</td>\n",
       "      <td>5.000000e+02</td>\n",
       "    </tr>\n",
       "    <tr>\n",
       "      <th>mean</th>\n",
       "      <td>-1.136868e-16</td>\n",
       "      <td>6.039613e-17</td>\n",
       "      <td>-5.684342e-17</td>\n",
       "      <td>-5.950795e-17</td>\n",
       "      <td>8.881784e-18</td>\n",
       "      <td>1.776357e-17</td>\n",
       "      <td>-1.776357e-18</td>\n",
       "      <td>0.000000</td>\n",
       "      <td>-5.329071e-18</td>\n",
       "      <td>-4.440892e-18</td>\n",
       "      <td>-6.217249e-18</td>\n",
       "      <td>0.000000</td>\n",
       "      <td>-7.105427e-18</td>\n",
       "      <td>3.996803e-18</td>\n",
       "      <td>0.000000</td>\n",
       "      <td>4.440892e-19</td>\n",
       "      <td>8.881784e-19</td>\n",
       "      <td>-6.661338e-19</td>\n",
       "    </tr>\n",
       "    <tr>\n",
       "      <th>std</th>\n",
       "      <td>2.802227e-01</td>\n",
       "      <td>4.263373e-01</td>\n",
       "      <td>3.007215e-01</td>\n",
       "      <td>3.384502e-01</td>\n",
       "      <td>1.985722e-01</td>\n",
       "      <td>4.482890e-01</td>\n",
       "      <td>1.261681e-01</td>\n",
       "      <td>0.069210</td>\n",
       "      <td>8.608028e-02</td>\n",
       "      <td>7.796669e-02</td>\n",
       "      <td>1.011934e-01</td>\n",
       "      <td>0.053999</td>\n",
       "      <td>1.499807e-01</td>\n",
       "      <td>1.403081e-01</td>\n",
       "      <td>0.056938</td>\n",
       "      <td>6.246607e-02</td>\n",
       "      <td>5.372425e-02</td>\n",
       "      <td>6.003049e-02</td>\n",
       "    </tr>\n",
       "    <tr>\n",
       "      <th>min</th>\n",
       "      <td>-7.202248e-01</td>\n",
       "      <td>-4.400000e-01</td>\n",
       "      <td>-5.489091e-01</td>\n",
       "      <td>-5.250000e-01</td>\n",
       "      <td>-3.109091e-01</td>\n",
       "      <td>-2.785571e-01</td>\n",
       "      <td>-7.581674e-02</td>\n",
       "      <td>-0.026147</td>\n",
       "      <td>-7.964205e-02</td>\n",
       "      <td>-6.977401e-02</td>\n",
       "      <td>-7.112443e-02</td>\n",
       "      <td>-0.014630</td>\n",
       "      <td>-1.239650e-01</td>\n",
       "      <td>-1.376199e-01</td>\n",
       "      <td>-0.020113</td>\n",
       "      <td>-3.440562e-02</td>\n",
       "      <td>-3.451409e-02</td>\n",
       "      <td>-3.348911e-02</td>\n",
       "    </tr>\n",
       "    <tr>\n",
       "      <th>25%</th>\n",
       "      <td>-1.811261e-01</td>\n",
       "      <td>-4.400000e-01</td>\n",
       "      <td>-2.761818e-01</td>\n",
       "      <td>-3.583333e-01</td>\n",
       "      <td>-2.200000e-01</td>\n",
       "      <td>-2.785571e-01</td>\n",
       "      <td>-5.874524e-02</td>\n",
       "      <td>-0.021529</td>\n",
       "      <td>-4.601888e-02</td>\n",
       "      <td>-4.119375e-02</td>\n",
       "      <td>-4.582094e-02</td>\n",
       "      <td>-0.011557</td>\n",
       "      <td>-8.598180e-02</td>\n",
       "      <td>-7.304465e-02</td>\n",
       "      <td>-0.017425</td>\n",
       "      <td>-2.343308e-02</td>\n",
       "      <td>-2.185586e-02</td>\n",
       "      <td>-2.227976e-02</td>\n",
       "    </tr>\n",
       "    <tr>\n",
       "      <th>50%</th>\n",
       "      <td>1.103102e-01</td>\n",
       "      <td>6.000000e-02</td>\n",
       "      <td>-3.454545e-03</td>\n",
       "      <td>-2.500000e-02</td>\n",
       "      <td>5.272727e-02</td>\n",
       "      <td>-2.785571e-01</td>\n",
       "      <td>-4.783768e-02</td>\n",
       "      <td>-0.018505</td>\n",
       "      <td>-2.576632e-02</td>\n",
       "      <td>-2.184575e-02</td>\n",
       "      <td>-2.853465e-02</td>\n",
       "      <td>-0.009493</td>\n",
       "      <td>-6.186037e-02</td>\n",
       "      <td>-4.533684e-02</td>\n",
       "      <td>-0.012048</td>\n",
       "      <td>-1.487740e-02</td>\n",
       "      <td>-1.046345e-02</td>\n",
       "      <td>-1.399116e-02</td>\n",
       "    </tr>\n",
       "    <tr>\n",
       "      <th>75%</th>\n",
       "      <td>2.272877e-01</td>\n",
       "      <td>5.600000e-01</td>\n",
       "      <td>2.692727e-01</td>\n",
       "      <td>3.083333e-01</td>\n",
       "      <td>1.436364e-01</td>\n",
       "      <td>7.214429e-01</td>\n",
       "      <td>-4.079848e-03</td>\n",
       "      <td>-0.006759</td>\n",
       "      <td>1.237927e-02</td>\n",
       "      <td>1.384645e-02</td>\n",
       "      <td>2.421345e-03</td>\n",
       "      <td>-0.001721</td>\n",
       "      <td>2.740164e-02</td>\n",
       "      <td>1.059400e-02</td>\n",
       "      <td>-0.001296</td>\n",
       "      <td>1.798938e-03</td>\n",
       "      <td>5.992242e-03</td>\n",
       "      <td>2.586044e-03</td>\n",
       "    </tr>\n",
       "    <tr>\n",
       "      <th>max</th>\n",
       "      <td>2.797752e-01</td>\n",
       "      <td>5.600000e-01</td>\n",
       "      <td>4.510909e-01</td>\n",
       "      <td>4.750000e-01</td>\n",
       "      <td>6.890909e-01</td>\n",
       "      <td>7.214429e-01</td>\n",
       "      <td>9.241833e-01</td>\n",
       "      <td>0.973853</td>\n",
       "      <td>9.203579e-01</td>\n",
       "      <td>9.302260e-01</td>\n",
       "      <td>9.288756e-01</td>\n",
       "      <td>0.985370</td>\n",
       "      <td>8.760350e-01</td>\n",
       "      <td>8.623801e-01</td>\n",
       "      <td>0.979887</td>\n",
       "      <td>9.655944e-01</td>\n",
       "      <td>9.654859e-01</td>\n",
       "      <td>9.665109e-01</td>\n",
       "    </tr>\n",
       "  </tbody>\n",
       "</table>\n",
       "</div>"
      ],
      "text/plain": [
       "       Page total likes      Category    Post Month  Post Weekday   \n",
       "count      5.000000e+02  5.000000e+02  5.000000e+02  5.000000e+02  \\\n",
       "mean      -1.136868e-16  6.039613e-17 -5.684342e-17 -5.950795e-17   \n",
       "std        2.802227e-01  4.263373e-01  3.007215e-01  3.384502e-01   \n",
       "min       -7.202248e-01 -4.400000e-01 -5.489091e-01 -5.250000e-01   \n",
       "25%       -1.811261e-01 -4.400000e-01 -2.761818e-01 -3.583333e-01   \n",
       "50%        1.103102e-01  6.000000e-02 -3.454545e-03 -2.500000e-02   \n",
       "75%        2.272877e-01  5.600000e-01  2.692727e-01  3.083333e-01   \n",
       "max        2.797752e-01  5.600000e-01  4.510909e-01  4.750000e-01   \n",
       "\n",
       "          Post Hour          Paid  Lifetime Post Total Reach   \n",
       "count  5.000000e+02  5.000000e+02               5.000000e+02  \\\n",
       "mean   8.881784e-18  1.776357e-17              -1.776357e-18   \n",
       "std    1.985722e-01  4.482890e-01               1.261681e-01   \n",
       "min   -3.109091e-01 -2.785571e-01              -7.581674e-02   \n",
       "25%   -2.200000e-01 -2.785571e-01              -5.874524e-02   \n",
       "50%    5.272727e-02 -2.785571e-01              -4.783768e-02   \n",
       "75%    1.436364e-01  7.214429e-01              -4.079848e-03   \n",
       "max    6.890909e-01  7.214429e-01               9.241833e-01   \n",
       "\n",
       "       Lifetime Post Total Impressions  Lifetime Engaged Users   \n",
       "count                       500.000000            5.000000e+02  \\\n",
       "mean                          0.000000           -5.329071e-18   \n",
       "std                           0.069210            8.608028e-02   \n",
       "min                          -0.026147           -7.964205e-02   \n",
       "25%                          -0.021529           -4.601888e-02   \n",
       "50%                          -0.018505           -2.576632e-02   \n",
       "75%                          -0.006759            1.237927e-02   \n",
       "max                           0.973853            9.203579e-01   \n",
       "\n",
       "       Lifetime Post Consumers  Lifetime Post Consumptions   \n",
       "count             5.000000e+02                5.000000e+02  \\\n",
       "mean             -4.440892e-18               -6.217249e-18   \n",
       "std               7.796669e-02                1.011934e-01   \n",
       "min              -6.977401e-02               -7.112443e-02   \n",
       "25%              -4.119375e-02               -4.582094e-02   \n",
       "50%              -2.184575e-02               -2.853465e-02   \n",
       "75%               1.384645e-02                2.421345e-03   \n",
       "max               9.302260e-01                9.288756e-01   \n",
       "\n",
       "       Lifetime Post Impressions by people who have liked your Page   \n",
       "count                                         500.000000             \\\n",
       "mean                                            0.000000              \n",
       "std                                             0.053999              \n",
       "min                                            -0.014630              \n",
       "25%                                            -0.011557              \n",
       "50%                                            -0.009493              \n",
       "75%                                            -0.001721              \n",
       "max                                             0.985370              \n",
       "\n",
       "       Lifetime Post reach by people who like your Page   \n",
       "count                                      5.000000e+02  \\\n",
       "mean                                      -7.105427e-18   \n",
       "std                                        1.499807e-01   \n",
       "min                                       -1.239650e-01   \n",
       "25%                                       -8.598180e-02   \n",
       "50%                                       -6.186037e-02   \n",
       "75%                                        2.740164e-02   \n",
       "max                                        8.760350e-01   \n",
       "\n",
       "       Lifetime People who have liked your Page and engaged with your post   \n",
       "count                                       5.000000e+02                    \\\n",
       "mean                                        3.996803e-18                     \n",
       "std                                         1.403081e-01                     \n",
       "min                                        -1.376199e-01                     \n",
       "25%                                        -7.304465e-02                     \n",
       "50%                                        -4.533684e-02                     \n",
       "75%                                         1.059400e-02                     \n",
       "max                                         8.623801e-01                     \n",
       "\n",
       "          comment          like         share  Total Interactions  \n",
       "count  500.000000  5.000000e+02  5.000000e+02        5.000000e+02  \n",
       "mean     0.000000  4.440892e-19  8.881784e-19       -6.661338e-19  \n",
       "std      0.056938  6.246607e-02  5.372425e-02        6.003049e-02  \n",
       "min     -0.020113 -3.440562e-02 -3.451409e-02       -3.348911e-02  \n",
       "25%     -0.017425 -2.343308e-02 -2.185586e-02       -2.227976e-02  \n",
       "50%     -0.012048 -1.487740e-02 -1.046345e-02       -1.399116e-02  \n",
       "75%     -0.001296  1.798938e-03  5.992242e-03        2.586044e-03  \n",
       "max      0.979887  9.655944e-01  9.654859e-01        9.665109e-01  "
      ]
     },
     "execution_count": 17,
     "metadata": {},
     "output_type": "execute_result"
    }
   ],
   "source": [
    "X.describe()"
   ]
  },
  {
   "cell_type": "code",
   "execution_count": 18,
   "id": "09915469",
   "metadata": {},
   "outputs": [
    {
     "data": {
      "text/plain": [
       "(500,)"
      ]
     },
     "execution_count": 18,
     "metadata": {},
     "output_type": "execute_result"
    }
   ],
   "source": [
    "y.shape"
   ]
  },
  {
   "cell_type": "code",
   "execution_count": 19,
   "id": "451edacd",
   "metadata": {},
   "outputs": [],
   "source": [
    "from sklearn.model_selection import train_test_split"
   ]
  },
  {
   "cell_type": "code",
   "execution_count": 20,
   "id": "b5ff14ed",
   "metadata": {},
   "outputs": [],
   "source": [
    "X_train, X_val, y_train, y_val = train_test_split(X,y,test_size = 0.2,random_state=5)\n"
   ]
  },
  {
   "cell_type": "code",
   "execution_count": 21,
   "id": "eff63263",
   "metadata": {},
   "outputs": [
    {
     "data": {
      "text/plain": [
       "(400, 18)"
      ]
     },
     "execution_count": 21,
     "metadata": {},
     "output_type": "execute_result"
    }
   ],
   "source": [
    "X_train.shape"
   ]
  },
  {
   "cell_type": "code",
   "execution_count": 22,
   "id": "9170f9f8",
   "metadata": {},
   "outputs": [],
   "source": [
    "#our model needs X_taring of dimension(number_features x number_training_examples)\n",
    "X_train=X_train.T"
   ]
  },
  {
   "cell_type": "code",
   "execution_count": 23,
   "id": "c410be41",
   "metadata": {},
   "outputs": [
    {
     "data": {
      "text/plain": [
       "(18, 400)"
      ]
     },
     "execution_count": 23,
     "metadata": {},
     "output_type": "execute_result"
    }
   ],
   "source": [
    "X_train.shape"
   ]
  },
  {
   "cell_type": "code",
   "execution_count": 24,
   "id": "bbf1b165",
   "metadata": {},
   "outputs": [
    {
     "data": {
      "text/plain": [
       "(400,)"
      ]
     },
     "execution_count": 24,
     "metadata": {},
     "output_type": "execute_result"
    }
   ],
   "source": [
    "y_train.shape"
   ]
  },
  {
   "cell_type": "code",
   "execution_count": 25,
   "id": "6ce20d2a",
   "metadata": {},
   "outputs": [],
   "source": [
    "#we need y_train of dimension 1 x m_train where m_train = number of training examples\n",
    "y_train = np.array([y_train])"
   ]
  },
  {
   "cell_type": "code",
   "execution_count": 26,
   "id": "f24bcb62",
   "metadata": {},
   "outputs": [
    {
     "data": {
      "text/plain": [
       "(1, 400)"
      ]
     },
     "execution_count": 26,
     "metadata": {},
     "output_type": "execute_result"
    }
   ],
   "source": [
    "y_train.shape"
   ]
  },
  {
   "cell_type": "code",
   "execution_count": 27,
   "id": "fd812c59",
   "metadata": {},
   "outputs": [],
   "source": [
    "#our model needs X_validation of dimension (number_features x number_validation_examples)\n",
    "X_val = X_val.T"
   ]
  },
  {
   "cell_type": "code",
   "execution_count": 28,
   "id": "be5393c1",
   "metadata": {},
   "outputs": [
    {
     "data": {
      "text/plain": [
       "(18, 100)"
      ]
     },
     "execution_count": 28,
     "metadata": {},
     "output_type": "execute_result"
    }
   ],
   "source": [
    "X_val.shape"
   ]
  },
  {
   "cell_type": "code",
   "execution_count": 29,
   "id": "218a6d21",
   "metadata": {},
   "outputs": [],
   "source": [
    "#we need y_val of dimension 1 x m_val where m_val = number of training example\n",
    "y_val=np.array([y_val])"
   ]
  },
  {
   "cell_type": "code",
   "execution_count": 30,
   "id": "b2293127",
   "metadata": {},
   "outputs": [
    {
     "data": {
      "text/plain": [
       "(1, 100)"
      ]
     },
     "execution_count": 30,
     "metadata": {},
     "output_type": "execute_result"
    }
   ],
   "source": [
    "y_val.shape"
   ]
  },
  {
   "cell_type": "markdown",
   "id": "df6fa4e5",
   "metadata": {},
   "source": [
    "# Feeding prepared dataset in our Linear Regression Model"
   ]
  },
  {
   "cell_type": "code",
   "execution_count": 31,
   "id": "8283a3ff",
   "metadata": {
    "scrolled": false
   },
   "outputs": [
    {
     "name": "stdout",
     "output_type": "stream",
     "text": [
      "\n",
      "Training cost 2341.3417663626465 | Validation cost  2756.9421763302444\n",
      "Training MAE 40.673025825692875 | Validation MAE  39.28531545966194\n"
     ]
    },
    {
     "data": {
      "image/png": "[encoded data removed]",
      "text/plain": [
       "<Figure size 640x480 with 1 Axes>"
      ]
     },
     "metadata": {},
     "output_type": "display_data"
    }
   ],
   "source": [
    "linear_regression_model(X_train,y_train,X_val,y_val,0.4,500)"
   ]
  },
  {
   "cell_type": "code",
   "execution_count": null,
   "id": "647ca5f7",
   "metadata": {},
   "outputs": [],
   "source": [
    "\n"
   ]
  },
  {
   "cell_type": "code",
   "execution_count": 32,
   "id": "6421a658",
   "metadata": {},
   "outputs": [],
   "source": [
    "from sklearn import linear_model"
   ]
  },
  {
   "cell_type": "code",
   "execution_count": 33,
   "id": "693deda3",
   "metadata": {},
   "outputs": [],
   "source": [
    "linear_regression = linear_model.LinearRegression()\n",
    "model= linear_regression.fit(X_train.T,y_train.T)\n",
    "predictions = linear_regression.predict(X_val.T)\n"
   ]
  },
  {
   "cell_type": "code",
   "execution_count": 34,
   "id": "eb21b699",
   "metadata": {},
   "outputs": [
    {
     "data": {
      "text/plain": [
       "(100, 1)"
      ]
     },
     "execution_count": 34,
     "metadata": {},
     "output_type": "execute_result"
    }
   ],
   "source": [
    "predictions.shape"
   ]
  },
  {
   "cell_type": "code",
   "execution_count": 35,
   "id": "fd662b54",
   "metadata": {},
   "outputs": [],
   "source": [
    "MAE_val_with_sklearn = (1/y_val.shape[1])*np.sum(np.abs(predictions-y_val.T))"
   ]
  },
  {
   "cell_type": "code",
   "execution_count": 36,
   "id": "6d326836",
   "metadata": {},
   "outputs": [
    {
     "data": {
      "text/plain": [
       "3.497291345411213e-13"
      ]
     },
     "execution_count": 36,
     "metadata": {},
     "output_type": "execute_result"
    }
   ],
   "source": [
    "MAE_val_with_sklearn"
   ]
  },
  {
   "cell_type": "code",
   "execution_count": 37,
   "id": "edeb3e35",
   "metadata": {},
   "outputs": [
    {
     "data": {
      "text/plain": [
       "Text(0.5, 1.0, 'Actual vs. Predicted Values for Linear Regression')"
      ]
     },
     "execution_count": 37,
     "metadata": {},
     "output_type": "execute_result"
    },
    {
     "data": {
      "image/png": "[encoded data removed]",
      "text/plain": [
       "<Figure size 640x480 with 1 Axes>"
      ]
     },
     "metadata": {},
     "output_type": "display_data"
    }
   ],
   "source": [
    "plt.scatter(y_val, predictions)\n",
    "plt.xlabel('Actual Values')\n",
    "plt.ylabel('Predicted Values')\n",
    "plt.title('Actual vs. Predicted Values for Linear Regression')\n"
   ]
  },
  {
   "cell_type": "code",
   "execution_count": 16,
   "id": "c6321254",
   "metadata": {},
   "outputs": [
    {
     "data": {
      "text/html": [
       "<div>\n",
       "<style scoped>\n",
       "    .dataframe tbody tr th:only-of-type {\n",
       "        vertical-align: middle;\n",
       "    }\n",
       "\n",
       "    .dataframe tbody tr th {\n",
       "        vertical-align: top;\n",
       "    }\n",
       "\n",
       "    .dataframe thead th {\n",
       "        text-align: right;\n",
       "    }\n",
       "</style>\n",
       "<table border=\"1\" class=\"dataframe\">\n",
       "  <thead>\n",
       "    <tr style=\"text-align: right;\">\n",
       "      <th></th>\n",
       "      <th>Page total likes</th>\n",
       "      <th>Category</th>\n",
       "      <th>Post Month</th>\n",
       "      <th>Post Weekday</th>\n",
       "      <th>Post Hour</th>\n",
       "      <th>Paid</th>\n",
       "      <th>Lifetime Post Total Reach</th>\n",
       "      <th>Lifetime Post Total Impressions</th>\n",
       "      <th>Lifetime Engaged Users</th>\n",
       "      <th>Lifetime Post Consumers</th>\n",
       "      <th>...</th>\n",
       "      <th>Lifetime Post reach by people who like your Page</th>\n",
       "      <th>Lifetime People who have liked your Page and engaged with your post</th>\n",
       "      <th>comment</th>\n",
       "      <th>like</th>\n",
       "      <th>share</th>\n",
       "      <th>Total Interactions</th>\n",
       "      <th>Type_Link</th>\n",
       "      <th>Type_Photo</th>\n",
       "      <th>Type_Status</th>\n",
       "      <th>Type_Video</th>\n",
       "    </tr>\n",
       "  </thead>\n",
       "  <tbody>\n",
       "    <tr>\n",
       "      <th>0</th>\n",
       "      <td>139441</td>\n",
       "      <td>2</td>\n",
       "      <td>12</td>\n",
       "      <td>4</td>\n",
       "      <td>3</td>\n",
       "      <td>0.0</td>\n",
       "      <td>2752</td>\n",
       "      <td>5091</td>\n",
       "      <td>178</td>\n",
       "      <td>109</td>\n",
       "      <td>...</td>\n",
       "      <td>1640</td>\n",
       "      <td>119</td>\n",
       "      <td>4</td>\n",
       "      <td>79.0</td>\n",
       "      <td>17.0</td>\n",
       "      <td>100</td>\n",
       "      <td>0</td>\n",
       "      <td>1</td>\n",
       "      <td>0</td>\n",
       "      <td>0</td>\n",
       "    </tr>\n",
       "    <tr>\n",
       "      <th>1</th>\n",
       "      <td>139441</td>\n",
       "      <td>2</td>\n",
       "      <td>12</td>\n",
       "      <td>3</td>\n",
       "      <td>10</td>\n",
       "      <td>0.0</td>\n",
       "      <td>10460</td>\n",
       "      <td>19057</td>\n",
       "      <td>1457</td>\n",
       "      <td>1361</td>\n",
       "      <td>...</td>\n",
       "      <td>6112</td>\n",
       "      <td>1108</td>\n",
       "      <td>5</td>\n",
       "      <td>130.0</td>\n",
       "      <td>29.0</td>\n",
       "      <td>164</td>\n",
       "      <td>0</td>\n",
       "      <td>0</td>\n",
       "      <td>1</td>\n",
       "      <td>0</td>\n",
       "    </tr>\n",
       "    <tr>\n",
       "      <th>2</th>\n",
       "      <td>139441</td>\n",
       "      <td>3</td>\n",
       "      <td>12</td>\n",
       "      <td>3</td>\n",
       "      <td>3</td>\n",
       "      <td>0.0</td>\n",
       "      <td>2413</td>\n",
       "      <td>4373</td>\n",
       "      <td>177</td>\n",
       "      <td>113</td>\n",
       "      <td>...</td>\n",
       "      <td>1503</td>\n",
       "      <td>132</td>\n",
       "      <td>0</td>\n",
       "      <td>66.0</td>\n",
       "      <td>14.0</td>\n",
       "      <td>80</td>\n",
       "      <td>0</td>\n",
       "      <td>1</td>\n",
       "      <td>0</td>\n",
       "      <td>0</td>\n",
       "    </tr>\n",
       "    <tr>\n",
       "      <th>3</th>\n",
       "      <td>139441</td>\n",
       "      <td>2</td>\n",
       "      <td>12</td>\n",
       "      <td>2</td>\n",
       "      <td>10</td>\n",
       "      <td>1.0</td>\n",
       "      <td>50128</td>\n",
       "      <td>87991</td>\n",
       "      <td>2211</td>\n",
       "      <td>790</td>\n",
       "      <td>...</td>\n",
       "      <td>32048</td>\n",
       "      <td>1386</td>\n",
       "      <td>58</td>\n",
       "      <td>1572.0</td>\n",
       "      <td>147.0</td>\n",
       "      <td>1777</td>\n",
       "      <td>0</td>\n",
       "      <td>1</td>\n",
       "      <td>0</td>\n",
       "      <td>0</td>\n",
       "    </tr>\n",
       "    <tr>\n",
       "      <th>4</th>\n",
       "      <td>139441</td>\n",
       "      <td>2</td>\n",
       "      <td>12</td>\n",
       "      <td>2</td>\n",
       "      <td>3</td>\n",
       "      <td>0.0</td>\n",
       "      <td>7244</td>\n",
       "      <td>13594</td>\n",
       "      <td>671</td>\n",
       "      <td>410</td>\n",
       "      <td>...</td>\n",
       "      <td>3200</td>\n",
       "      <td>396</td>\n",
       "      <td>19</td>\n",
       "      <td>325.0</td>\n",
       "      <td>49.0</td>\n",
       "      <td>393</td>\n",
       "      <td>0</td>\n",
       "      <td>1</td>\n",
       "      <td>0</td>\n",
       "      <td>0</td>\n",
       "    </tr>\n",
       "  </tbody>\n",
       "</table>\n",
       "<p>5 rows × 22 columns</p>\n",
       "</div>"
      ],
      "text/plain": [
       "   Page total likes  Category  Post Month  Post Weekday  Post Hour  Paid   \n",
       "0            139441         2          12             4          3   0.0  \\\n",
       "1            139441         2          12             3         10   0.0   \n",
       "2            139441         3          12             3          3   0.0   \n",
       "3            139441         2          12             2         10   1.0   \n",
       "4            139441         2          12             2          3   0.0   \n",
       "\n",
       "   Lifetime Post Total Reach  Lifetime Post Total Impressions   \n",
       "0                       2752                             5091  \\\n",
       "1                      10460                            19057   \n",
       "2                       2413                             4373   \n",
       "3                      50128                            87991   \n",
       "4                       7244                            13594   \n",
       "\n",
       "   Lifetime Engaged Users  Lifetime Post Consumers  ...   \n",
       "0                     178                      109  ...  \\\n",
       "1                    1457                     1361  ...   \n",
       "2                     177                      113  ...   \n",
       "3                    2211                      790  ...   \n",
       "4                     671                      410  ...   \n",
       "\n",
       "   Lifetime Post reach by people who like your Page   \n",
       "0                                              1640  \\\n",
       "1                                              6112   \n",
       "2                                              1503   \n",
       "3                                             32048   \n",
       "4                                              3200   \n",
       "\n",
       "   Lifetime People who have liked your Page and engaged with your post   \n",
       "0                                                119                    \\\n",
       "1                                               1108                     \n",
       "2                                                132                     \n",
       "3                                               1386                     \n",
       "4                                                396                     \n",
       "\n",
       "   comment    like  share  Total Interactions  Type_Link  Type_Photo   \n",
       "0        4    79.0   17.0                 100          0           1  \\\n",
       "1        5   130.0   29.0                 164          0           0   \n",
       "2        0    66.0   14.0                  80          0           1   \n",
       "3       58  1572.0  147.0                1777          0           1   \n",
       "4       19   325.0   49.0                 393          0           1   \n",
       "\n",
       "   Type_Status  Type_Video  \n",
       "0            0           0  \n",
       "1            1           0  \n",
       "2            0           0  \n",
       "3            0           0  \n",
       "4            0           0  \n",
       "\n",
       "[5 rows x 22 columns]"
      ]
     },
     "execution_count": 16,
     "metadata": {},
     "output_type": "execute_result"
    }
   ],
   "source": [
    "import pandas as pd\n",
    "\n",
    "datasett = pd.read_csv('dataset_Facebook.csv', delimiter=';')\n",
    "data = datasett.copy()\n",
    "\n",
    "mean_value = data['Paid'].mean()\n",
    "data['Paid'].fillna(mean_value, inplace=True)\n",
    "\n",
    "mean_value = data['like'].mean()\n",
    "data['like'].fillna(mean_value, inplace=True)\n",
    "\n",
    "mean_value = data['share'].mean()\n",
    "data['share'].fillna(mean_value, inplace=True)\n",
    "\n",
    "one_hot_encoded = pd.get_dummies(data['Type'], prefix='Type')\n",
    "data = pd.concat([data, one_hot_encoded], axis=1)\n",
    "\n",
    "data['Type_Link'] = data['Type_Link'].astype(int)\n",
    "data['Type_Photo'] = data['Type_Photo'].astype(int)\n",
    "data['Type_Status'] = data['Type_Status'].astype(int)\n",
    "data['Type_Video'] = data['Type_Video'].astype(int)\n",
    "\n",
    "data.drop([\"Type\"], axis=1, inplace=True)\n",
    "\n",
    "data.head()"
   ]
  },
  {
   "cell_type": "code",
   "execution_count": null,
   "id": "a548bca2",
   "metadata": {},
   "outputs": [],
   "source": []
  }
 ],
 "metadata": {
  "kernelspec": {
   "display_name": "Python 3 (ipykernel)",
   "language": "python",
   "name": "python3"
  },
  "language_info": {
   "codemirror_mode": {
    "name": "ipython",
    "version": 3
   },
   "file_extension": ".py",
   "mimetype": "text/x-python",
   "name": "python",
   "nbconvert_exporter": "python",
   "pygments_lexer": "ipython3",
   "version": "3.11.2"
  }
 },
 "nbformat": 4,
 "nbformat_minor": 5
}
